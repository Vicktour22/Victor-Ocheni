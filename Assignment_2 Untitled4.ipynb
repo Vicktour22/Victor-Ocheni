{
 "cells": [
  {
   "cell_type": "code",
   "execution_count": 12,
   "id": "c7531176-ccb2-4320-8666-82b53a1553c9",
   "metadata": {},
   "outputs": [
    {
     "name": "stdout",
     "output_type": "stream",
     "text": [
      "Restaurant Name:Fantastic Food Haven\n",
      "Cuisine Type:Italian\n",
      "The restaurantFantastic Food Haven is now open!\n"
     ]
    }
   ],
   "source": [
    "class Restaurant:\n",
    "    def __init__(self,restaurant_name, cuisine_type):\n",
    "        self.restaurant_name=restaurant_name\n",
    "        self.cuisine_type=cuisine_type\n",
    "\n",
    "    def describe_restaurant(self):\n",
    "        print(f\"Restaurant Name:{self.restaurant_name}\")\n",
    "        print(f\"Cuisine Type:{self.cuisine_type}\")\n",
    "\n",
    "    def open_restaurant(self):\n",
    "        print(f\"The restaurant{self.restaurant_name} is now open!\")\n",
    "\n",
    "my_restaurant= Restaurant(\"Fantastic Food Haven\", \"Italian\")\n",
    "my_restaurant.describe_restaurant()\n",
    "my_restaurant.open_restaurant() "
   ]
  },
  {
   "cell_type": "code",
   "execution_count": null,
   "id": "6c950160-71a0-42fe-bdb6-3fa3058c87a5",
   "metadata": {},
   "outputs": [],
   "source": []
  },
  {
   "cell_type": "code",
   "execution_count": 13,
   "id": "c54a9fca-fcfe-4eb1-84ea-324236722807",
   "metadata": {},
   "outputs": [
    {
     "name": "stdout",
     "output_type": "stream",
     "text": [
      " Restaurant_name:Tasty Bites\n",
      "Cuisine Type:Mexican\n",
      "Restaurant Name:Tasty Bites\n",
      "Cuisine Type:Mexican\n",
      "The restaurantTasty Bites is now open!\n",
      "Restaurant Name:Sizzling Grill\n",
      "Cuisine Type:Steakhouse\n",
      "Restaurant Name:Spice Delight\n",
      "Cuisine Type:Indian\n",
      "Restaurant Name:Noodle Paradise\n",
      "Cuisine Type:Chinese\n"
     ]
    }
   ],
   "source": [
    "restaurant= Restaurant(\"Tasty Bites\", \"Mexican\")\n",
    "print(f\" Restaurant_name:{restaurant.restaurant_name}\")\n",
    "print(f\"Cuisine Type:{restaurant.cuisine_type}\")\n",
    "\n",
    "# call both methods\n",
    "restaurant.describe_restaurant()\n",
    "restaurant.open_restaurant()\n",
    "\n",
    "restaurant1 = Restaurant(\"Sizzling Grill\", \"Steakhouse\")\n",
    "restaurant2 = Restaurant(\"Spice Delight\", \"Indian\")\n",
    "restaurant3 = Restaurant(\"Noodle Paradise\",\"Chinese\")\n",
    "\n",
    "#call describe_restaurant() for each instance\n",
    "restaurant1.describe_restaurant()\n",
    "restaurant2.describe_restaurant()\n",
    "restaurant3.describe_restaurant()"
   ]
  },
  {
   "cell_type": "raw",
   "id": "b7419d3e-3607-4f02-b230-e40706fc5da9",
   "metadata": {},
   "source": []
  },
  {
   "cell_type": "code",
   "execution_count": 15,
   "id": "5f8a8120-bfa1-4612-9855-5e413aebdb44",
   "metadata": {},
   "outputs": [
    {
     "ename": "SyntaxError",
     "evalue": "unterminated f-string literal (detected at line 8) (3355175416.py, line 8)",
     "output_type": "error",
     "traceback": [
      "\u001b[1;36m  Cell \u001b[1;32mIn[15], line 8\u001b[1;36m\u001b[0m\n\u001b[1;33m    print(f\"Cuisine Type:{self.cuisine_type})\u001b[0m\n\u001b[1;37m          ^\u001b[0m\n\u001b[1;31mSyntaxError\u001b[0m\u001b[1;31m:\u001b[0m unterminated f-string literal (detected at line 8)\n"
     ]
    }
   ],
   "source": [
    "class Restaurant:\n",
    "    def __init__(self,restaurant_name, cuisine_type):\n",
    "        self.restaurant_name=restaurant_name\n",
    "        self.cuisine_type=cuisine_type\n",
    "        self.number_served=0\n",
    "    def describe_restaurant(self):\n",
    "        print(f\"Restaurant Name:{self.restaurant_name}\")\n",
    "        print(f\"Cuisine Type:{self.cuisine_type})\n",
    "    def open_restaurant(self):\n",
    "        print(f\"The restaurant{self.restaurant_name} is now open!\")\n",
    "\n",
    "#Create an instance of the restaurant class\n",
    "my_restaurant= Restaurant(\"Fantastic Food Haven\", \"Italian\")\n",
    "my_restaurant.describe_restaurant()\n",
    "my_restaurant.open_restaurant()\n",
    "# An example of Restaurant class\n",
    "restaurant =Restaurant(\"Tasty Bites\", \"Mexican\")\n",
    "print(f\"Restaurant Name:{restaurant.restaurant_name}\")\n",
    "print(f\"Cuisine Type:{restaurant.cuisine_type}\")\n",
    "\n",
    "#both methods\n",
    "restaurant.describe_restaurant()\n",
    "restaurant.open_restaurant()"
   ]
  },
  {
   "cell_type": "code",
   "execution_count": 5,
   "id": "18287b5b-40e5-4979-a057-808e6fe88b1b",
   "metadata": {},
   "outputs": [
    {
     "ename": "NameError",
     "evalue": "name 'Restaurant' is not defined",
     "output_type": "error",
     "traceback": [
      "\u001b[1;31m---------------------------------------------------------------------------\u001b[0m",
      "\u001b[1;31mNameError\u001b[0m                                 Traceback (most recent call last)",
      "Cell \u001b[1;32mIn[5], line 2\u001b[0m\n\u001b[0;32m      1\u001b[0m \u001b[38;5;66;03m# Create an instance of the restaurant class\u001b[39;00m\n\u001b[1;32m----> 2\u001b[0m my_restaurant\u001b[38;5;241m=\u001b[39m \u001b[43mRestaurant\u001b[49m(\u001b[38;5;124m\"\u001b[39m\u001b[38;5;124mFantastic Food Haven\u001b[39m\u001b[38;5;124m\"\u001b[39m, \u001b[38;5;124m\"\u001b[39m\u001b[38;5;124mItalian\u001b[39m\u001b[38;5;124m\"\u001b[39m)\n\u001b[0;32m      3\u001b[0m my_restaurant\u001b[38;5;241m.\u001b[39mdescribe_restaurant()\n\u001b[0;32m      4\u001b[0m my_restaurant\u001b[38;5;241m.\u001b[39mopen_restaurant()\n",
      "\u001b[1;31mNameError\u001b[0m: name 'Restaurant' is not defined"
     ]
    }
   ],
   "source": []
  },
  {
   "cell_type": "code",
   "execution_count": null,
   "id": "4bbfad98-8d80-4e86-b94e-d3bf63468a23",
   "metadata": {},
   "outputs": [],
   "source": []
  },
  {
   "cell_type": "code",
   "execution_count": null,
   "id": "0378d4dc-fefb-407f-9d2d-8da123e9f893",
   "metadata": {},
   "outputs": [],
   "source": [
    "#Three instance of the Restaurant class\n",
    "restuarant1= Restaurant (\"Sizzling Grill\", \"Chicken Republic\")\n",
    "restuarant2= Restaurant(\"Dominos\",\"The Place\")\n",
    "restaurant3= Restaurant(\"Junkyard\",\"Genesis\")\n",
    "\n",
    "#describe_restaurant() for each instance\n",
    "restaurant1.describe_restaurant()\n",
    "restaurant2.describe_restaurant()\n",
    "restaurant3.describe_restaurant()\n",
    "\n"
   ]
  },
  {
   "cell_type": "code",
   "execution_count": 2,
   "id": "7e084d97-fb9e-4e64-8cdb-db03b1df7dfc",
   "metadata": {},
   "outputs": [
    {
     "name": "stdout",
     "output_type": "stream",
     "text": [
      "Number of customers served: 0\n",
      "Number of customers served: 50\n"
     ]
    }
   ],
   "source": [
    "class Restaurant:\n",
    "    def __init__(self,restaurant_name, cuisine_type):\n",
    "        self.restaurant_name=restaurant_name\n",
    "        self.cuisine_type=cuisine_type\n",
    "        self.number_served=0\n",
    "    def describe_restaurant(self):\n",
    "        print(f\"Restaurant Name:{self.restaurant_name}\")\n",
    "        print(f\"Cuisine Type:{self.cuisine_type}\")\n",
    "    def open_restaurant(self):\n",
    "        print(f\"Cuisine Type:{self.cuisine_type}\")\n",
    "    def open_restaurant(self):\n",
    "        print(f\"The restaurant{self.restaurant_name} is now open!\")\n",
    "    def print_customers_served(self):print(f\"Number of customers served: {self.number_served}\")\n",
    "\n",
    "#An instance of the restaurant class\n",
    "restaurant=Restaurant(\"Cafe Bliss\",\"International\")\n",
    "restaurant.print_customers_served()\n",
    "restaurant.number_served=50\n",
    "restaurant.print_customers_served()\n"
   ]
  },
  {
   "cell_type": "code",
   "execution_count": null,
   "id": "6fbff5e6-7c34-4595-b4e5-30638006e5a2",
   "metadata": {},
   "outputs": [],
   "source": []
  },
  {
   "cell_type": "code",
   "execution_count": 18,
   "id": "0bf7dcfc-247c-405c-95bd-491fdcdacc5f",
   "metadata": {},
   "outputs": [
    {
     "name": "stdout",
     "output_type": "stream",
     "text": [
      "Number of customers served: 0\n"
     ]
    },
    {
     "ename": "AttributeError",
     "evalue": "'Restaurant' object has no attribute 'increment_number_served'",
     "output_type": "error",
     "traceback": [
      "\u001b[1;31m---------------------------------------------------------------------------\u001b[0m",
      "\u001b[1;31mAttributeError\u001b[0m                            Traceback (most recent call last)",
      "Cell \u001b[1;32mIn[18], line 9\u001b[0m\n\u001b[0;32m      7\u001b[0m restaurant\u001b[38;5;241m=\u001b[39m Restaurant(\u001b[38;5;124m\"\u001b[39m\u001b[38;5;124mCafe Bliss\u001b[39m\u001b[38;5;124m\"\u001b[39m, \u001b[38;5;124m\"\u001b[39m\u001b[38;5;124mInternational\u001b[39m\u001b[38;5;124m\"\u001b[39m)\n\u001b[0;32m      8\u001b[0m restaurant\u001b[38;5;241m.\u001b[39mprint_customers_served()\n\u001b[1;32m----> 9\u001b[0m \u001b[43mrestaurant\u001b[49m\u001b[38;5;241;43m.\u001b[39;49m\u001b[43mincrement_number_served\u001b[49m(\u001b[38;5;241m50\u001b[39m)\n\u001b[0;32m     10\u001b[0m restaurant\u001b[38;5;241m.\u001b[39mprint_customers_served()\n",
      "\u001b[1;31mAttributeError\u001b[0m: 'Restaurant' object has no attribute 'increment_number_served'"
     ]
    }
   ],
   "source": [
    "    def set_number_served(self,new_number):\n",
    "        self.number_served=new_number\n",
    "    def increment_number_served(self,increment):\n",
    "        self.number_served+=increment\n",
    "\n",
    "#create an instance of the restaurant class\n",
    "restaurant= Restaurant(\"Cafe Bliss\", \"International\")\n",
    "restaurant.print_customers_served()\n",
    "restaurant.increment_number_served(50)\n",
    "restaurant.print_customers_served()"
   ]
  },
  {
   "cell_type": "code",
   "execution_count": 12,
   "id": "bba56952-0000-4b3c-9ecb-ef92d5cf956f",
   "metadata": {},
   "outputs": [
    {
     "ename": "IndentationError",
     "evalue": "unindent does not match any outer indentation level (<string>, line 7)",
     "output_type": "error",
     "traceback": [
      "\u001b[1;36m  File \u001b[1;32m<string>:7\u001b[1;36m\u001b[0m\n\u001b[1;33m    def display_flavors(self):\u001b[0m\n\u001b[1;37m                              ^\u001b[0m\n\u001b[1;31mIndentationError\u001b[0m\u001b[1;31m:\u001b[0m unindent does not match any outer indentation level\n"
     ]
    }
   ],
   "source": [
    "#method to display the ice cream flavors\n",
    "class IceCreamStand(Restaurant):\n",
    "    def __init__(self,restaurant_name, cuisine_type,flavors):\n",
    "super().__init__(restaurant_name,cuisine_type)\n",
    "        self.flavors=flavors\n",
    "\n",
    "    def display_flavors(self):\n",
    "        print(\"Available Ice Cream Flavors:\")\n",
    "        for flavor in self.flavors:\n",
    "            print(f\"-{flavor}\")\n",
    "\n",
    "icecream_stand=IceCreamStand(\"Sweet Treats\",\"IceCream Shop\", [\"Vanilla\", \"Chocolate\", \"Strawberry\", \"Mint Chip\"])\n",
    "\n",
    "#call the display_flavors() method\n",
    "ice_cream_stand.display_flavors()"
   ]
  },
  {
   "cell_type": "code",
   "execution_count": 8,
   "id": "896c38a9-be38-4f1b-a89d-b1e5f26a98c3",
   "metadata": {},
   "outputs": [
    {
     "name": "stdout",
     "output_type": "stream",
     "text": [
      "User Information:\n",
      "Name:John Doe\n",
      "Age:25\n",
      "Email: john.doe@example.com\n",
      "Location:Cityville\n"
     ]
    },
    {
     "ename": "NameError",
     "evalue": "name 'user_profile' is not defined",
     "output_type": "error",
     "traceback": [
      "\u001b[1;31m---------------------------------------------------------------------------\u001b[0m",
      "\u001b[1;31mNameError\u001b[0m                                 Traceback (most recent call last)",
      "Cell \u001b[1;32mIn[8], line 21\u001b[0m\n\u001b[0;32m     19\u001b[0m User_profile\u001b[38;5;241m=\u001b[39m User (\u001b[38;5;124m\"\u001b[39m\u001b[38;5;124mJohn\u001b[39m\u001b[38;5;124m\"\u001b[39m,\u001b[38;5;124m\"\u001b[39m\u001b[38;5;124mDoe\u001b[39m\u001b[38;5;124m\"\u001b[39m,\u001b[38;5;241m25\u001b[39m, \u001b[38;5;124m\"\u001b[39m\u001b[38;5;124mjohn.doe@example.com\u001b[39m\u001b[38;5;124m\"\u001b[39m,\u001b[38;5;124m\"\u001b[39m\u001b[38;5;124mCityville\u001b[39m\u001b[38;5;124m\"\u001b[39m)\n\u001b[0;32m     20\u001b[0m User_profile\u001b[38;5;241m.\u001b[39mdescribe_user()\n\u001b[1;32m---> 21\u001b[0m \u001b[43muser_profile\u001b[49m\u001b[38;5;241m.\u001b[39mgreet_user()\n",
      "\u001b[1;31mNameError\u001b[0m: name 'user_profile' is not defined"
     ]
    }
   ],
   "source": [
    "#method describe_user() and greet_user\n",
    "class User:\n",
    "    def __init__(self, first_name,last_name,age, email, location):\n",
    "        self.first_name=first_name\n",
    "        self.last_name=last_name\n",
    "        self.age=age\n",
    "        self.email=email\n",
    "        self.location=location\n",
    "\n",
    "    def describe_user(self):\n",
    "        print(f\"User Information:\")\n",
    "        print(f\"Name:{self.first_name} {self.last_name}\")\n",
    "        print(f\"Age:{self.age}\")\n",
    "        print(f\"Email: {self.email}\")\n",
    "        print(f\"Location:{self.location}\")\n",
    "\n",
    "    def greet_user(self):\n",
    "        print(f\"Hello,{self.first_name}! Welcome back.\")\n",
    "User_profile= User (\"John\",\"Doe\",25, \"john.doe@example.com\",\"Cityville\")\n",
    "User_profile.describe_user()\n",
    "user_profile.greet_user()"
   ]
  },
  {
   "cell_type": "code",
   "execution_count": null,
   "id": "67bd8b8d-7cc1-40f8-8adb-ba83f7069eb1",
   "metadata": {},
   "outputs": [],
   "source": [
    "#create instance of the user class representing different users\n",
    "user1=User(\"Alice\",\"Johnson\",30,\"alice@example.com\", \"Suburbia\")\n",
    "user2=User(\"Bob\",\"Smith\",22,\"bob@example.com\",\"Downtown\")\n",
    "user3=User(\"Charlie\",\"Brown\",28,\"charlie@example.com\",\"Rural Village\")\n",
    "\n",
    "#call both methods for each other\n",
    "user1.describe_user()\n",
    "user1.greer_user()\n",
    "\n",
    "user2.describe_user()\n",
    "user2.greet_user()\n",
    "\n",
    "user3.describe_user()\n",
    "user3.greet_user()"
   ]
  },
  {
   "cell_type": "code",
   "execution_count": null,
   "id": "c47b1ae0-b345-4df7-9411-1b1298881a83",
   "metadata": {},
   "outputs": [],
   "source": []
  },
  {
   "cell_type": "code",
   "execution_count": 19,
   "id": "6128216f-5bef-4645-b208-2e3ad1c4d2d5",
   "metadata": {},
   "outputs": [
    {
     "ename": "NameError",
     "evalue": "name 'user_profile' is not defined",
     "output_type": "error",
     "traceback": [
      "\u001b[1;31m---------------------------------------------------------------------------\u001b[0m",
      "\u001b[1;31mNameError\u001b[0m                                 Traceback (most recent call last)",
      "Cell \u001b[1;32mIn[19], line 22\u001b[0m\n\u001b[0;32m     19\u001b[0m User_profile\u001b[38;5;241m=\u001b[39m User (\u001b[38;5;124m\"\u001b[39m\u001b[38;5;124mJohn\u001b[39m\u001b[38;5;124m\"\u001b[39m,\u001b[38;5;124m\"\u001b[39m\u001b[38;5;124mDoe\u001b[39m\u001b[38;5;124m\"\u001b[39m,\u001b[38;5;241m25\u001b[39m, \u001b[38;5;124m\"\u001b[39m\u001b[38;5;124mjohn.doe@example.com\u001b[39m\u001b[38;5;124m\"\u001b[39m,\u001b[38;5;124m\"\u001b[39m\u001b[38;5;124mCityville\u001b[39m\u001b[38;5;124m\"\u001b[39m)\n\u001b[0;32m     21\u001b[0m \u001b[38;5;66;03m#Create an instance of the user class\u001b[39;00m\n\u001b[1;32m---> 22\u001b[0m \u001b[43muser_profile\u001b[49m\u001b[38;5;241m.\u001b[39mincrement_login_attempts()\n\u001b[0;32m     23\u001b[0m user_profile\u001b[38;5;241m.\u001b[39mincrement_login_attempts()\n\u001b[0;32m     24\u001b[0m user_profile\u001b[38;5;241m.\u001b[39mincrement_login_attempts()\n",
      "\u001b[1;31mNameError\u001b[0m: name 'user_profile' is not defined"
     ]
    }
   ],
   "source": [
    "class User:\n",
    "    def __init__(self, first_name,last_name,age, email, location):\n",
    "        self.first_name=first_name\n",
    "        self.last_name=last_name\n",
    "        self.age=age\n",
    "        self.email=email\n",
    "        self.location=location\n",
    "        self.login_attempts=0\n",
    "\n",
    "    def describe_user(self):\n",
    "        print(f\"User Information:\")\n",
    "        print(f\"Name:{self.first_name} {self.last_name}\")\n",
    "        print(f\"Age:{self.age}\")\n",
    "        print(f\"Email: {self.email}\")\n",
    "        print(f\"Location:{self.location}\")\n",
    "\n",
    "    def greet_user(self):\n",
    "        print(f\"Hello,{self.first_name}! Welcome back.\")\n",
    "User_profile= User (\"John\",\"Doe\",25, \"john.doe@example.com\",\"Cityville\")\n",
    "\n",
    "#Create an instance of the user class\n",
    "user_profile.increment_login_attempts()\n",
    "user_profile.increment_login_attempts()\n",
    "user_profile.increment_login_attempts()\n",
    "\n",
    "#print the current login_attempts value\n",
    "print(f\"Login Attempts:{user_profile.login_attempts}\")\n",
    "\n",
    "#call reset_login_attempts() method\n",
    "user_profile.reset_login_attempts()\n",
    "\n",
    "#print the reset login_attempts value\n",
    "print(f\"Login Attempts:{user_profile.login_attempts}\")\n",
    "\n",
    "#create instance of the user class representing different users\n",
    "user1=User(\"Alice\",\"Johnson\",30,\"alice@example.com\", \"Suburbia\")\n",
    "\n",
    "#call increment_login_attempt() method multiple times\n",
    "user_profile.increment_login_attempts()\n",
    "user_profile.increment_login_attempts()\n",
    "user_profile.increment_login_attempts()\n",
    "\n",
    "#print the current login_attempts value\n",
    "print(f\"Login Attempts:{user_profile.login_attempts}\")\n",
    "\n",
    "#call reset_login_attempts() method\n",
    "user_profile.reset_login_attempts()\n",
    "\n",
    "#print the reset login_attempts value\n",
    "print(f\"Login Attempts:{user_profile.login_attempts}\")\n",
    "\n",
    "\n"
   ]
  },
  {
   "cell_type": "code",
   "execution_count": null,
   "id": "f90b2ad6-3cf6-4b37-8a29-74cb7996a113",
   "metadata": {},
   "outputs": [],
   "source": [
    "\n",
    "\n"
   ]
  },
  {
   "cell_type": "code",
   "execution_count": 10,
   "id": "9fb2960c-8d32-4259-b32f-3a09357b8028",
   "metadata": {},
   "outputs": [
    {
     "ename": "NameError",
     "evalue": "name 'admin' is not defined",
     "output_type": "error",
     "traceback": [
      "\u001b[1;31m---------------------------------------------------------------------------\u001b[0m",
      "\u001b[1;31mNameError\u001b[0m                                 Traceback (most recent call last)",
      "Cell \u001b[1;32mIn[10], line 10\u001b[0m\n\u001b[0;32m      7\u001b[0m admin_privileges\u001b[38;5;241m=\u001b[39m[\u001b[38;5;124m\"\u001b[39m\u001b[38;5;124mcan add post\u001b[39m\u001b[38;5;124m\"\u001b[39m,\u001b[38;5;124m\"\u001b[39m\u001b[38;5;124mcan delete post\u001b[39m\u001b[38;5;124m\"\u001b[39m,\u001b[38;5;124m\"\u001b[39m\u001b[38;5;124mcan ban user\u001b[39m\u001b[38;5;124m\"\u001b[39m]\n\u001b[0;32m      9\u001b[0m \u001b[38;5;66;03m#create an instance of the Admin class\u001b[39;00m\n\u001b[1;32m---> 10\u001b[0m \u001b[43madmin\u001b[49m\n",
      "\u001b[1;31mNameError\u001b[0m: name 'admin' is not defined"
     ]
    }
   ],
   "source": [
    "class Admin(User):\n",
    "    def __init__(self, first_name,last_name,age,email,location,priviledge):\n",
    "        super().__init__(first_name,last_name,age,email,location)\n",
    "        self.privieges=privileges\n",
    "\n",
    "#Example usage:\n",
    "admin_privileges=[\"can add post\",\"can delete post\",\"can ban user\"]\n",
    "\n",
    "#create an instance of the Admin class\n",
    "admin_user=Admin(\"Admin\", \"Smith\",35,\"admin@example.com\",\"Admin City\", admin_privileges)\n",
    "\n",
    "#Accessing attributes from both User and Admin\n",
    "print(f\"Admin Name:{admin_user.first_name}{admin_user.last_name}\")\n",
    "print(f\"Admin Privileges: {','.join(admin_user.privileges)}\")"
   ]
  },
  {
   "cell_type": "code",
   "execution_count": null,
   "id": "4286763a-fba0-4cdb-83c2-96fbed793574",
   "metadata": {},
   "outputs": [],
   "source": [
    "class Admin(User):\n",
    "    def __init__(self, first_name,last_name,age,email,location,priviledge):\n",
    "        super().__init__(first_name,last_name,age,email,location)\n",
    "        self.privieges=privileges\n",
    "\n",
    "    def show_privileges(self):\n",
    "        print(\"Administrator Privileges:\")\n",
    "        for privilege in self.privilege:\n",
    "            print(f\"-{privilege}\")\n",
    "\n",
    "#Example usage:\n",
    "admin_privileges=[\"can add post\",\"can delete post\",\"can ban user\"]\n",
    "\n",
    "#create an instance of the Admin class\n",
    "admin_user=Admin(\"Admin\", \"Smith\",35,\"admin@example.com\",\"Admin City\", admin_privileges)\n",
    "\n",
    "#call the show_privilege() method\n",
    "admin_user.show_privileges()"
   ]
  },
  {
   "cell_type": "code",
   "execution_count": 11,
   "id": "8724fdac-d5f9-4452-b469-0f463c6880e7",
   "metadata": {},
   "outputs": [
    {
     "ename": "NameError",
     "evalue": "name 'privileges' is not defined",
     "output_type": "error",
     "traceback": [
      "\u001b[1;31m---------------------------------------------------------------------------\u001b[0m",
      "\u001b[1;31mNameError\u001b[0m                                 Traceback (most recent call last)",
      "Cell \u001b[1;32mIn[11], line 20\u001b[0m\n\u001b[0;32m     17\u001b[0m admin_privileges\u001b[38;5;241m=\u001b[39m[\u001b[38;5;124m\"\u001b[39m\u001b[38;5;124mcan add post\u001b[39m\u001b[38;5;124m\"\u001b[39m,\u001b[38;5;124m\"\u001b[39m\u001b[38;5;124mcan delete post\u001b[39m\u001b[38;5;124m\"\u001b[39m,\u001b[38;5;124m\"\u001b[39m\u001b[38;5;124mcan ban user\u001b[39m\u001b[38;5;124m\"\u001b[39m]\n\u001b[0;32m     19\u001b[0m \u001b[38;5;66;03m#create an instance of the Admin class\u001b[39;00m\n\u001b[1;32m---> 20\u001b[0m admin_user\u001b[38;5;241m=\u001b[39m\u001b[43mAdmin\u001b[49m\u001b[43m(\u001b[49m\u001b[38;5;124;43m\"\u001b[39;49m\u001b[38;5;124;43mAdmin\u001b[39;49m\u001b[38;5;124;43m\"\u001b[39;49m\u001b[43m,\u001b[49m\u001b[43m \u001b[49m\u001b[38;5;124;43m\"\u001b[39;49m\u001b[38;5;124;43mSmith\u001b[39;49m\u001b[38;5;124;43m\"\u001b[39;49m\u001b[43m,\u001b[49m\u001b[38;5;241;43m35\u001b[39;49m\u001b[43m,\u001b[49m\u001b[38;5;124;43m\"\u001b[39;49m\u001b[38;5;124;43madmin@example.com\u001b[39;49m\u001b[38;5;124;43m\"\u001b[39;49m\u001b[43m,\u001b[49m\u001b[38;5;124;43m\"\u001b[39;49m\u001b[38;5;124;43mAdmin City\u001b[39;49m\u001b[38;5;124;43m\"\u001b[39;49m\u001b[43m,\u001b[49m\u001b[43m \u001b[49m\u001b[43madmin_privileges\u001b[49m\u001b[43m)\u001b[49m\n\u001b[0;32m     22\u001b[0m \u001b[38;5;66;03m#call the show_privileges() method through the privileges instance\u001b[39;00m\n\u001b[0;32m     23\u001b[0m admin_user\u001b[38;5;241m.\u001b[39madmin_privileges\u001b[38;5;241m.\u001b[39mshow_privileges()\n",
      "Cell \u001b[1;32mIn[11], line 13\u001b[0m, in \u001b[0;36mAdmin.__init__\u001b[1;34m(self, first_name, last_name, age, email, location, priviledge)\u001b[0m\n\u001b[0;32m     11\u001b[0m \u001b[38;5;28;01mdef\u001b[39;00m \u001b[38;5;21m__init__\u001b[39m(\u001b[38;5;28mself\u001b[39m, first_name,last_name,age,email,location,priviledge):\n\u001b[0;32m     12\u001b[0m     \u001b[38;5;28msuper\u001b[39m()\u001b[38;5;241m.\u001b[39m\u001b[38;5;21m__init__\u001b[39m(first_name,last_name,age,email,location)\n\u001b[1;32m---> 13\u001b[0m     \u001b[38;5;28mself\u001b[39m\u001b[38;5;241m.\u001b[39mprivieges\u001b[38;5;241m=\u001b[39m\u001b[43mprivileges\u001b[49m\n",
      "\u001b[1;31mNameError\u001b[0m: name 'privileges' is not defined"
     ]
    }
   ],
   "source": [
    "class Privileges:\n",
    "    def __init__(self, privileges):\n",
    "        self.privieges=privileges\n",
    "\n",
    "    def show_privileges(self):\n",
    "        print(\"Administrator Privileges:\")\n",
    "        for privilege in self.privilege:\n",
    "            print(f\"-{privilege}\")\n",
    "            \n",
    "class Admin(User):\n",
    "    def __init__(self, first_name,last_name,age,email,location,priviledge):\n",
    "        super().__init__(first_name,last_name,age,email,location)\n",
    "        self.privieges=privileges\n",
    "\n",
    "\n",
    "#Example usage:\n",
    "admin_privileges=[\"can add post\",\"can delete post\",\"can ban user\"]\n",
    "\n",
    "#create an instance of the Admin class\n",
    "admin_user=Admin(\"Admin\", \"Smith\",35,\"admin@example.com\",\"Admin City\", admin_privileges)\n",
    "\n",
    "#call the show_privileges() method through the privileges instance\n",
    "admin_user.admin_privileges.show_privileges()"
   ]
  },
  {
   "cell_type": "code",
   "execution_count": null,
   "id": "9b5e8fa7-a133-4724-90dc-c2f229f0b007",
   "metadata": {},
   "outputs": [],
   "source": []
  }
 ],
 "metadata": {
  "kernelspec": {
   "display_name": "Python 3 (ipykernel)",
   "language": "python",
   "name": "python3"
  },
  "language_info": {
   "codemirror_mode": {
    "name": "ipython",
    "version": 3
   },
   "file_extension": ".py",
   "mimetype": "text/x-python",
   "name": "python",
   "nbconvert_exporter": "python",
   "pygments_lexer": "ipython3",
   "version": "3.12.0"
  }
 },
 "nbformat": 4,
 "nbformat_minor": 5
}
